{
 "cells": [
  {
   "cell_type": "code",
   "execution_count": 12,
   "metadata": {},
   "outputs": [],
   "source": [
    "import os\n",
    "import sys\n",
    "import numpy as np\n",
    "import cv2\n",
    "from tqdm import tqdm"
   ]
  },
  {
   "cell_type": "code",
   "execution_count": 14,
   "metadata": {},
   "outputs": [
    {
     "name": "stderr",
     "output_type": "stream",
     "text": [
      " 40%|████      | 2/5 [00:00<00:00, 14.51it/s]"
     ]
    },
    {
     "name": "stdout",
     "output_type": "stream",
     "text": [
      "Resizing and Grayscaling...\n"
     ]
    },
    {
     "name": "stderr",
     "output_type": "stream",
     "text": [
      "100%|██████████| 5/5 [00:00<00:00, 14.45it/s]\n"
     ]
    }
   ],
   "source": [
    "path = 'data/train/'\n",
    "resized_path = 'data/resized/'\n",
    "image_rows = 420\n",
    "image_cols = 580\n",
    "img_extension = '.jpg'\n",
    "imgs_list = os.listdir(path)\n",
    "\n",
    "print(\"Resizing and Grayscaling...\")\n",
    "i= 0\n",
    "for n in tqdm(range(0,len(imgs_list))):\n",
    "    \n",
    "    # Reading all files in a list\n",
    "    img=cv2.imread(path + imgs_list[n] )\n",
    "    img_name =os.path.splitext(imgs_list[n])[0]\n",
    "\n",
    "    # Resizing and Grayscaling\n",
    "    img = cv2.resize(img, (image_cols, image_rows))\n",
    "    img = cv2.cvtColor(img, cv2.COLOR_BGR2GRAY)\n",
    "    \n",
    "    cv2.imwrite(resized_path + img_name + img_extension,img)\n",
    "   # cv2.imwrite(resized_path + img_name + '_resized' + img_extension,img)\n",
    "\n",
    "    i = i +1"
   ]
  },
  {
   "cell_type": "code",
   "execution_count": null,
   "metadata": {},
   "outputs": [],
   "source": []
  }
 ],
 "metadata": {
  "kernelspec": {
   "display_name": "Python 3",
   "language": "python",
   "name": "python3"
  },
  "language_info": {
   "codemirror_mode": {
    "name": "ipython",
    "version": 3
   },
   "file_extension": ".py",
   "mimetype": "text/x-python",
   "name": "python",
   "nbconvert_exporter": "python",
   "pygments_lexer": "ipython3",
   "version": "3.6.4"
  }
 },
 "nbformat": 4,
 "nbformat_minor": 2
}
