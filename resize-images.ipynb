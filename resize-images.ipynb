{
 "cells": [
  {
   "cell_type": "code",
   "execution_count": 31,
   "metadata": {},
   "outputs": [],
   "source": [
    "import cv2\n",
    "import os\n",
    "import glob\n",
    "from scipy.misc import imread, imsave\n",
    "import imageio\n",
    "\n",
    "\n",
    "new_height = 150\n",
    "new_width= 300\n",
    "img_original_dir = \"data/train2/\"\n",
    "img_resized_dir = \"data/resized/\"\n",
    "imgs_extension = 'jpg'\n",
    "\n",
    "\n",
    "\n",
    "def get_file_name_dir(rootDir, ext):\n",
    "    return glob.glob1(rootDir, \"*.\" + ext)\n",
    "def resize_images(img):\n",
    "        resized_img = cv2.resize(img,(new_width, new_height))\n",
    "        return resized_img"
   ]
  },
  {
   "cell_type": "code",
   "execution_count": 34,
   "metadata": {},
   "outputs": [
    {
     "name": "stdout",
     "output_type": "stream",
     "text": [
      "Resizing: ISIC_0025306.jpg: 1\n",
      "\tResized Image...\n",
      "Resizing: ISIC_0025307.jpg: 2\n",
      "\tResized Image...\n",
      "Resizing: ISIC_0025308.jpg: 3\n",
      "\tResized Image...\n",
      "Resizing: ISIC_0025309.jpg: 4\n",
      "\tResized Image...\n",
      "Resizing: ISIC_0025310.jpg: 5\n",
      "\tResized Image...\n",
      "Resizing: ISIC_0025311.jpg: 6\n",
      "\tResized Image...\n",
      "Resizing: ISIC_0025312.jpg: 7\n",
      "\tResized Image...\n",
      "Resizing: ISIC_0025313.jpg: 8\n",
      "\tResized Image...\n",
      "Resizing: ISIC_0025314.jpg: 9\n",
      "\tResized Image...\n",
      "Resizing: ISIC_0025315.jpg: 10\n",
      "\tResized Image...\n"
     ]
    }
   ],
   "source": [
    "all_imgs = sorted(get_file_name_dir(img_original_dir, imgs_extension))\n",
    "n = 1\n",
    "\n",
    "for img_name in all_imgs:\n",
    "    print('Resizing: ' + img_name + ': ' + str(n))\n",
    "    n += 1\n",
    "    image = imageio.imread(img_original_dir + img_name)\n",
    "    print('\\tResized Image...')\n",
    "    image = resize_images(image)\n",
    "\n",
    "    imageio.imwrite(img_resized_dir + img_name, image)"
   ]
  },
  {
   "cell_type": "code",
   "execution_count": null,
   "metadata": {},
   "outputs": [],
   "source": []
  },
  {
   "cell_type": "code",
   "execution_count": null,
   "metadata": {},
   "outputs": [],
   "source": []
  },
  {
   "cell_type": "code",
   "execution_count": null,
   "metadata": {},
   "outputs": [],
   "source": []
  }
 ],
 "metadata": {
  "kernelspec": {
   "display_name": "Python 3",
   "language": "python",
   "name": "python3"
  },
  "language_info": {
   "codemirror_mode": {
    "name": "ipython",
    "version": 3
   },
   "file_extension": ".py",
   "mimetype": "text/x-python",
   "name": "python",
   "nbconvert_exporter": "python",
   "pygments_lexer": "ipython3",
   "version": "3.6.4"
  }
 },
 "nbformat": 4,
 "nbformat_minor": 2
}
