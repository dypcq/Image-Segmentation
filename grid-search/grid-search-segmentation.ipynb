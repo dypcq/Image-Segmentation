{
 "cells": [
  {
   "cell_type": "code",
   "execution_count": null,
   "metadata": {},
   "outputs": [],
   "source": [
    "from hyperopt import fmin, tpe, hp, STATUS_OK, Trials, partial, rand, space_eval\n",
    "from sklearn.metrics import log_loss\n",
    "import sys"
   ]
  },
  {
   "cell_type": "code",
   "execution_count": null,
   "metadata": {},
   "outputs": [],
   "source": [
    "space = {\n",
    "         'lr': hp.choice('lr',[0.01, 0.001, 0.0001]),\n",
    "         'dropout': hp.choice('dropout', [0, 0.1, 0.2, 0.3, 0.4, 0.5, 0.6, 0.7]),\n",
    "         'batch_size': hp.choice('batch_size', [2, 4, 8]),\n",
    "         'epochs': hp.choice('epochs', [15, 20, 25, 30, 50]),\n",
    "         'optimizer': hp.choice('optimizer',['sgd','adam','rmsprop']),\n",
    "    \n",
    "         'activation': hp.choice('activation',['relu',\n",
    "                                                'tanh']),\n",
    "         'loss': hp.choice('loss', [losses.logcosh,\n",
    "                                    losses.mse,\n",
    "                                    losses.mae,\n",
    "                                    losses.mape])\n",
    "        }\n"
   ]
  },
  {
   "cell_type": "code",
   "execution_count": null,
   "metadata": {},
   "outputs": [],
   "source": [
    "def f_nn(params):   \n",
    "    from keras.models import Sequential\n",
    "    from keras.layers.core import Dense, Dropout, Activation\n",
    "    from keras.optimizers import Adadelta, Adam, rmsprop\n",
    "\n",
    "    print ('Params testing: ', params)\n",
    "    model = Sequential()\n",
    "    model.add(Dense(output_dim=params['units1'], input_dim = X.shape[1])) \n",
    "    model.add(Activation(params['activation1']))\n",
    "    model.add(Dropout(params['dropout1']))\n",
    "\n",
    "    model.add(Dense(output_dim=params['units2'], init = \"glorot_uniform\")) \n",
    "    model.add(Activation(params['activation2']))\n",
    "    model.add(Dropout(params['dropout2']))\n",
    "\n",
    "    if params['choice']['layers']== 'three':\n",
    "        model.add(Dense(output_dim=params['choice']['units3'], init = \"glorot_uniform\")) \n",
    "        model.add(Activation(params['choice']['activation3']))\n",
    "        model.add(Dropout(params['choice']['dropout3']))    \n",
    "\n",
    "    model.add(Dense(2))\n",
    "    model.add(Activation('sigmoid'))\n",
    "    model.compile(loss='binary_crossentropy', optimizer=params['optimizer'])\n",
    "\n",
    "    model.fit(X, y, nb_epoch=params['nb_epochs'], batch_size=params['batch_size'], verbose = 1)\n",
    "\n",
    "    pred_auc =model.predict_proba(X_val, batch_size = 128, verbose = 1)\n",
    "    acc = log_loss(y_val, pred_auc)\n",
    "\n",
    "    print(\"\\n\")\n",
    "    print('logloss:', acc)\n",
    "    sys.stdout.flush() \n",
    "    return {'loss': acc, 'status': STATUS_OK}\n"
   ]
  },
  {
   "cell_type": "code",
   "execution_count": null,
   "metadata": {},
   "outputs": [],
   "source": [
    "trials = Trials()\n",
    "best = fmin(f_nn, space, algo=tpe.suggest, max_evals=30, trials=trials)\n",
    "print(best)"
   ]
  },
  {
   "cell_type": "code",
   "execution_count": null,
   "metadata": {},
   "outputs": [],
   "source": []
  },
  {
   "cell_type": "code",
   "execution_count": null,
   "metadata": {},
   "outputs": [],
   "source": []
  },
  {
   "cell_type": "code",
   "execution_count": null,
   "metadata": {},
   "outputs": [],
   "source": []
  },
  {
   "cell_type": "code",
   "execution_count": null,
   "metadata": {},
   "outputs": [],
   "source": []
  },
  {
   "cell_type": "code",
   "execution_count": null,
   "metadata": {},
   "outputs": [],
   "source": []
  },
  {
   "cell_type": "code",
   "execution_count": null,
   "metadata": {},
   "outputs": [],
   "source": [
    "from __future__ import absolute_import\n",
    "from __future__ import division\n",
    "from __future__ import print_function\n",
    "\n",
    "import keras\n",
    "from keras.models import Sequential\n",
    "from keras.layers import Dense, Dropout, Flatten\n",
    "from keras.layers import Conv2D, MaxPooling2D\n",
    "from keras import backend as K\n",
    "\n",
    "import numpy as np\n",
    "import tensorflow as tf\n",
    "from sklearn.model_selection import train_test_split\n",
    "from keras.datasets import mnist\n",
    "from hyperopt import fmin, tpe, hp, STATUS_OK, Trials\n",
    "\n",
    "from sklearn.metrics import roc_auc_score\n",
    "\n",
    "\n",
    "(x_train, y_train), (x_test, y_test) = mnist.load_data()\n",
    "img_rows, img_cols = 28, 28\n",
    "if K.image_data_format() == 'channels_first':\n",
    "    x_train = x_train.reshape(int(x_train.shape[0]), 1, img_rows, img_cols)\n",
    "    x_test = x_test.reshape(int(x_test.shape[0]), 1, img_rows, img_cols)\n",
    "    input_shape = (1, img_rows, img_cols)\n",
    "else:\n",
    "    x_train = x_train.reshape(int(x_train.shape[0]), img_rows, img_cols, 1)\n",
    "    x_test = x_test.reshape(int(x_test.shape[0]), img_rows, img_cols, 1)\n",
    "    input_shape = (img_rows, img_cols, 1)\n",
    "x_train, x_val, y_train, y_val = train_test_split(x_train, y_train, test_size=0.2)\n",
    "x_train = x_train.astype('float32')\n",
    "x_test = x_test.astype('float32')\n",
    "x_train /= 255\n",
    "x_test /= 255\n",
    "\n",
    "\n",
    "\n",
    "space = {'num_layers': hp.choice('num_layers', [2, 3]),\n",
    "\n",
    "            'n_filters_1': hp.choice('n_filters_1', [8, 16, 32, 64]),\n",
    "            'n_filters_2': hp.choice('n_filters_2', [8, 16, 32, 64]),\n",
    "            'n_filters_3': hp.choice('n_filters_3', [16, 32, 64]),\n",
    "\n",
    "\n",
    "            'drop_1': hp.uniform('drop_1', .25,.75),\n",
    "            'drop_2': hp.uniform('drop_2',  .25,.75),\n",
    "\n",
    "            'batch_size' : hp.choice('batch_size', [1, 2, 4, 8, 16, 32, 64]),\n",
    "\n",
    "            'nb_epochs' :  2,\n",
    "            'optimizer': hp.choice('optimizer',['adadelta','adam','rmsprop']),\n",
    "            'activation': 'relu'\n",
    "        }\n",
    "\n",
    "\n",
    "def run_model(param_dict):\n",
    "  model = Sequential()\n",
    "  model.add(Conv2D(param_dict['n_filters_1'], kernel_size=(3, 3),\n",
    "                   activation='relu',\n",
    "                   input_shape=input_shape))\n",
    "  model.add(Conv2D(param_dict['n_filters_2'], (3, 3), activation='relu'))\n",
    "  model.add(MaxPooling2D(pool_size=(2, 2)))\n",
    "  model.add(Dropout(param_dict['drop_1']))\n",
    "  model.add(Flatten())\n",
    "  if param_dict['num_layers'] == 3:\n",
    "    model.add(Conv2D(32, (3, 3), activation='relu'))\n",
    "  model.add(Dense(param_dict['n_filters_3'], activation='relu'))\n",
    "  model.add(Dropout(param_dict['drop_2']))\n",
    "  model.add(Dense(10, activation='softmax'))\n",
    "\n",
    "  model.compile(loss=keras.losses.sparse_categorical_crossentropy,\n",
    "              optimizer=param_dict['optimizer'],\n",
    "              metrics=['accuracy'])\n",
    "\n",
    "  model.fit(x_val, y_val, nb_epoch=param_dict['nb_epochs'], batch_size=param_dict['batch_size'], verbose = 0)\n",
    "  pred_auc =model.predict_proba(x_val, batch_size = 128, verbose = 0)\n",
    "  acc = roc_auc_score(y_val, pred_auc)\n",
    "  print('AUC:', acc)\n",
    "  sys.stdout.flush()\n",
    "  return {'loss': -[acc], 'status': STATUS_OK}\n",
    "\n",
    "trials = Trials()\n",
    "best = fmin(run_model, space, algo=tpe.suggest, max_evals=50, trials=trials)\n"
   ]
  },
  {
   "cell_type": "code",
   "execution_count": null,
   "metadata": {},
   "outputs": [],
   "source": []
  },
  {
   "cell_type": "code",
   "execution_count": null,
   "metadata": {},
   "outputs": [],
   "source": []
  },
  {
   "cell_type": "code",
   "execution_count": null,
   "metadata": {},
   "outputs": [],
   "source": []
  },
  {
   "cell_type": "code",
   "execution_count": null,
   "metadata": {},
   "outputs": [],
   "source": []
  },
  {
   "cell_type": "code",
   "execution_count": null,
   "metadata": {},
   "outputs": [],
   "source": []
  },
  {
   "cell_type": "code",
   "execution_count": null,
   "metadata": {},
   "outputs": [],
   "source": []
  }
 ],
 "metadata": {
  "kernelspec": {
   "display_name": "Python 3",
   "language": "python",
   "name": "python3"
  },
  "language_info": {
   "codemirror_mode": {
    "name": "ipython",
    "version": 3
   },
   "file_extension": ".py",
   "mimetype": "text/x-python",
   "name": "python",
   "nbconvert_exporter": "python",
   "pygments_lexer": "ipython3",
   "version": "3.6.5"
  }
 },
 "nbformat": 4,
 "nbformat_minor": 2
}
