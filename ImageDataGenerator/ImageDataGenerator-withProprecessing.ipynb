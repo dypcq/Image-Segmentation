{
 "cells": [
  {
   "cell_type": "code",
   "execution_count": 2,
   "metadata": {},
   "outputs": [],
   "source": [
    "from keras.preprocessing.image import ImageDataGenerator\n",
    "import matplotlib.pyplot as plt\n",
    "import numpy as np\n",
    "import random\n",
    "\n",
    "from skimage.util import random_noise"
   ]
  },
  {
   "cell_type": "code",
   "execution_count": 3,
   "metadata": {},
   "outputs": [],
   "source": [
    "train_dir = 'data/training'\n",
    "# valid_dir = 'data/validation'"
   ]
  },
  {
   "cell_type": "code",
   "execution_count": 4,
   "metadata": {},
   "outputs": [],
   "source": [
    "def image_preprocess(image):\n",
    "    image = image.astype(np.float32) / 255.0\n",
    "    image = image - random.uniform(0, 0.6) \n",
    "    image = random_noise(image, mode='gaussian', seed=None, clip=True)\n",
    "    return image\n",
    "\n",
    "def mask_preprocess(mask):\n",
    "    mask = mask.astype(np.float32) / 255.0\n",
    "    mask[mask > 0.5] = 1\n",
    "    mask[mask <= 0.5] = 0\n",
    "    return mask\n",
    "\n",
    "def data_generator(batch_size,\n",
    "                   params_dict,\n",
    "                   train_path,\n",
    "                   image_folder, mask_folder,\n",
    "                   save_path = None,\n",
    "                   image_save_prefix  = \"image\", mask_save_prefix  = \"mask\",\n",
    "                   target_size = (256,256),\n",
    "                   seed = 1):\n",
    "    '''\n",
    "    generates augmented image and mask on the fly at the same time\n",
    "    use the same seed for image_datagen and mask_datagen to ensure the transformation for image and mask is the same\n",
    "    '''\n",
    "    \n",
    "    image_datagen = ImageDataGenerator(**params_dict, preprocessing_function = image_preprocess)\n",
    "    mask_datagen = ImageDataGenerator(**params_dict, preprocessing_function = mask_preprocess)\n",
    "    \n",
    "    image_generator = image_datagen.flow_from_directory(\n",
    "        train_path,\n",
    "        classes = [image_folder],\n",
    "        class_mode = None,\n",
    "        color_mode = 'grayscale',\n",
    "        target_size = target_size,\n",
    "        batch_size = batch_size,\n",
    "        save_to_dir = save_path,\n",
    "        save_prefix  = image_save_prefix,\n",
    "        shuffle = False,\n",
    "        interpolation = 'bicubic',\n",
    "        seed = seed)\n",
    "    \n",
    "    mask_generator = mask_datagen.flow_from_directory(\n",
    "        train_path,\n",
    "        classes = [mask_folder],\n",
    "        class_mode = None,\n",
    "        color_mode = 'grayscale',\n",
    "        target_size = target_size,\n",
    "        batch_size = batch_size,\n",
    "        save_to_dir = save_path,\n",
    "        save_prefix  = mask_save_prefix,\n",
    "        shuffle = False,\n",
    "        interpolation = 'bicubic',\n",
    "        seed = seed)\n",
    "    \n",
    "    # returning zip(generator_one, generator_two) in turn also creates generator\n",
    "    return zip(image_generator, mask_generator)\n",
    "\n"
   ]
  },
  {
   "cell_type": "code",
   "execution_count": 5,
   "metadata": {},
   "outputs": [],
   "source": [
    "augmented_dir= 'data/augmented'"
   ]
  },
  {
   "cell_type": "code",
   "execution_count": 6,
   "metadata": {},
   "outputs": [
    {
     "name": "stdout",
     "output_type": "stream",
     "text": [
      "Found 7 images belonging to 1 classes.\n",
      "Found 7 images belonging to 1 classes.\n"
     ]
    }
   ],
   "source": [
    "data_augmentation_args = dict(rotation_range=45,\n",
    "                              width_shift_range=10,\n",
    "                              height_shift_range=10,\n",
    "                              shear_range=0.05,\n",
    "                              zoom_range=0.05,\n",
    "                              horizontal_flip=False,\n",
    "                              fill_mode='nearest')\n",
    "\n",
    "generator = data_generator(32, data_augmentation_args, train_dir, 'images', 'masks', augmented_dir)\n",
    "\n",
    "num_batches = 50\n",
    "for i, batch in enumerate(generator):\n",
    "#     print(i)\n",
    "    if i >= num_batches - 1:\n",
    "        break"
   ]
  }
 ],
 "metadata": {
  "kernelspec": {
   "display_name": "Python 3",
   "language": "python",
   "name": "python3"
  },
  "language_info": {
   "codemirror_mode": {
    "name": "ipython",
    "version": 3
   },
   "file_extension": ".py",
   "mimetype": "text/x-python",
   "name": "python",
   "nbconvert_exporter": "python",
   "pygments_lexer": "ipython3",
   "version": "3.6.5"
  }
 },
 "nbformat": 4,
 "nbformat_minor": 2
}
