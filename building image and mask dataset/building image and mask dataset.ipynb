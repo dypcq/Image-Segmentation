{
 "cells": [
  {
   "cell_type": "code",
   "execution_count": null,
   "metadata": {},
   "outputs": [],
   "source": [
    "#  https://www.kaggle.com/schlerp/eda-and-keras"
   ]
  },
  {
   "cell_type": "code",
   "execution_count": 9,
   "metadata": {},
   "outputs": [],
   "source": [
    "import numpy as np\n",
    "import pandas as pd\n",
    "import os\n",
    "import random\n",
    "import PIL\n",
    "import cv2\n",
    "import matplotlib.pyplot as plt\n",
    "from tqdm import tqdm_notebook, tnrange\n",
    "\n",
    "import keras\n",
    "from keras.models import *\n",
    "from keras.layers import *\n",
    "from keras.optimizers import *\n",
    "from keras.callbacks import ModelCheckpoint, LearningRateScheduler\n",
    "from keras import backend as K\n",
    "from keras.preprocessing.image import load_img\n",
    "\n",
    "\n",
    "import sys\n",
    "import warnings\n",
    "\n",
    "if not sys.warnoptions:\n",
    "    warnings.simplefilter(\"ignore\")"
   ]
  },
  {
   "cell_type": "code",
   "execution_count": 10,
   "metadata": {},
   "outputs": [],
   "source": [
    "train_img_path = 'data/train/images'\n",
    "train_masks_path = 'data/train/masks'\n",
    "\n",
    "img_width, img_height = 300, 300\n",
    "\n",
    "epochs = 5"
   ]
  },
  {
   "cell_type": "code",
   "execution_count": 11,
   "metadata": {},
   "outputs": [],
   "source": [
    "if K.image_data_format() == 'channels_first':\n",
    "    input_shape = (1, img_width, img_height)\n",
    "else:\n",
    "    input_shape = (img_width, img_height, 1)"
   ]
  },
  {
   "cell_type": "code",
   "execution_count": 12,
   "metadata": {},
   "outputs": [
    {
     "name": "stdout",
     "output_type": "stream",
     "text": [
      "building train image and mask dataset...\n"
     ]
    },
    {
     "data": {
      "application/vnd.jupyter.widget-view+json": {
       "model_id": "643031eabe314c7eb5a940b51cf9ec96",
       "version_major": 2,
       "version_minor": 0
      },
      "text/plain": [
       "HBox(children=(IntProgress(value=0, max=4000), HTML(value='')))"
      ]
     },
     "metadata": {},
     "output_type": "display_data"
    },
    {
     "name": "stdout",
     "output_type": "stream",
     "text": [
      "\n",
      "converting datasets to numpy arrays...\n",
      "done!\n"
     ]
    }
   ],
   "source": [
    "print('building train image and mask dataset...')\n",
    "\n",
    "train_img_dataset = []\n",
    "train_mask_dataset = []\n",
    "for img_name in tqdm_notebook (os.listdir(train_img_path)):\n",
    "    img_path = os.path.join(train_img_path, img_name)\n",
    "    mask_path = os.path.join(train_masks_path, img_name)\n",
    "    \n",
    "    train_img = cv2.imread(img_path, 0)\n",
    "    train_img = cv2.resize(train_img, (100, 100))\n",
    "    train_img = np.array(train_img).reshape((100, 100, 1))\n",
    "    \n",
    "    train_mask = cv2.imread(mask_path, 0)\n",
    "    train_mask = cv2.resize(train_mask, (100, 100))\n",
    "    train_mask = np.array(train_mask).reshape((100, 100, 1))\n",
    "\n",
    "    train_img_dataset.append(train_img)\n",
    "    train_mask_dataset.append(train_mask)\n",
    "\n",
    "print('converting datasets to numpy arrays...')\n",
    "train_img_dataset = np.array(train_img_dataset)\n",
    "train_mask_dataset = np.array(train_mask_dataset)\n",
    "\n",
    "print('done!')"
   ]
  },
  {
   "cell_type": "markdown",
   "metadata": {},
   "source": [
    "# Simple CNN Model"
   ]
  },
  {
   "cell_type": "code",
   "execution_count": 6,
   "metadata": {},
   "outputs": [
    {
     "name": "stdout",
     "output_type": "stream",
     "text": [
      "building model...\n",
      "compiling model...\n",
      "model summary:\n",
      "__________________________________________________________________________________________________\n",
      "Layer (type)                    Output Shape         Param #     Connected to                     \n",
      "==================================================================================================\n",
      "input_1 (InputLayer)            (None, 100, 100, 1)  0                                            \n",
      "__________________________________________________________________________________________________\n",
      "conv2d_1 (Conv2D)               (None, 100, 100, 32) 320         input_1[0][0]                    \n",
      "__________________________________________________________________________________________________\n",
      "conv2d_2 (Conv2D)               (None, 100, 100, 32) 9248        conv2d_1[0][0]                   \n",
      "__________________________________________________________________________________________________\n",
      "max_pooling2d_1 (MaxPooling2D)  (None, 50, 50, 32)   0           conv2d_2[0][0]                   \n",
      "__________________________________________________________________________________________________\n",
      "conv2d_3 (Conv2D)               (None, 50, 50, 64)   18496       max_pooling2d_1[0][0]            \n",
      "__________________________________________________________________________________________________\n",
      "conv2d_4 (Conv2D)               (None, 50, 50, 64)   36928       conv2d_3[0][0]                   \n",
      "__________________________________________________________________________________________________\n",
      "max_pooling2d_2 (MaxPooling2D)  (None, 25, 25, 64)   0           conv2d_4[0][0]                   \n",
      "__________________________________________________________________________________________________\n",
      "conv2d_5 (Conv2D)               (None, 25, 25, 128)  73856       max_pooling2d_2[0][0]            \n",
      "__________________________________________________________________________________________________\n",
      "conv2d_6 (Conv2D)               (None, 25, 25, 128)  147584      conv2d_5[0][0]                   \n",
      "__________________________________________________________________________________________________\n",
      "up_sampling2d_1 (UpSampling2D)  (None, 50, 50, 128)  0           conv2d_6[0][0]                   \n",
      "__________________________________________________________________________________________________\n",
      "concatenate_1 (Concatenate)     (None, 50, 50, 192)  0           conv2d_4[0][0]                   \n",
      "                                                                 up_sampling2d_1[0][0]            \n",
      "__________________________________________________________________________________________________\n",
      "conv2d_7 (Conv2D)               (None, 50, 50, 128)  221312      concatenate_1[0][0]              \n",
      "__________________________________________________________________________________________________\n",
      "conv2d_8 (Conv2D)               (None, 50, 50, 128)  147584      conv2d_7[0][0]                   \n",
      "__________________________________________________________________________________________________\n",
      "up_sampling2d_2 (UpSampling2D)  (None, 100, 100, 128 0           conv2d_8[0][0]                   \n",
      "__________________________________________________________________________________________________\n",
      "concatenate_2 (Concatenate)     (None, 100, 100, 160 0           conv2d_2[0][0]                   \n",
      "                                                                 up_sampling2d_2[0][0]            \n",
      "__________________________________________________________________________________________________\n",
      "conv2d_9 (Conv2D)               (None, 100, 100, 64) 92224       concatenate_2[0][0]              \n",
      "__________________________________________________________________________________________________\n",
      "conv2d_10 (Conv2D)              (None, 100, 100, 64) 36928       conv2d_9[0][0]                   \n",
      "__________________________________________________________________________________________________\n",
      "conv2d_11 (Conv2D)              (None, 100, 100, 32) 18464       conv2d_10[0][0]                  \n",
      "__________________________________________________________________________________________________\n",
      "conv2d_12 (Conv2D)              (None, 100, 100, 32) 9248        conv2d_11[0][0]                  \n",
      "__________________________________________________________________________________________________\n",
      "conv2d_13 (Conv2D)              (None, 100, 100, 1)  33          conv2d_12[0][0]                  \n",
      "==================================================================================================\n",
      "Total params: 812,225\n",
      "Trainable params: 812,225\n",
      "Non-trainable params: 0\n",
      "__________________________________________________________________________________________________\n",
      "None\n",
      "done!\n"
     ]
    }
   ],
   "source": [
    "print('building model...')\n",
    "inputs = Input(shape=(100, 100, 1))\n",
    "conv1 = Conv2D(32, 3, activation='elu', padding='same')(inputs)\n",
    "conv1 = Conv2D(32, 3, activation='elu', padding='same')(conv1)\n",
    "# 100, 100, 64\n",
    "\n",
    "maxpool1 = MaxPool2D(2)(conv1)\n",
    "conv2 = Conv2D(64, 3, activation='elu', padding='same')(maxpool1)\n",
    "conv2 = Conv2D(64, 3, activation='elu', padding='same')(conv2)\n",
    "# 50, 50, 128\n",
    "\n",
    "maxpool2 = MaxPool2D(2)(conv2)\n",
    "conv3 = Conv2D(128, 3, activation='elu', padding='same')(maxpool2)\n",
    "conv3 = Conv2D(128, 3, activation='elu', padding='same')(conv3)\n",
    "# 25, 25, 256\n",
    "\n",
    "up1 = UpSampling2D(2)(conv3)\n",
    "up1 = Concatenate()([conv2, up1])\n",
    "up1 = Conv2D(128, 3, activation='elu', padding='same')(up1)\n",
    "up1 = Conv2D(128, 3, activation='elu', padding='same')(up1)\n",
    "# 50, 50, 128\n",
    "\n",
    "up2 = UpSampling2D(2)(up1)\n",
    "up2 = Concatenate()([conv1, up2])\n",
    "up2 = Conv2D(64, 3, activation='elu', padding='same')(up2)\n",
    "up2 = Conv2D(64, 3, activation='elu', padding='same')(up2)\n",
    "# 100, 100, 64\n",
    "\n",
    "outputs = Conv2D(32, 3, activation='elu', padding='same')(up2)\n",
    "outputs = Conv2D(32, 3, activation='elu', padding='same')(outputs)\n",
    "outputs = Conv2D(1, 1, activation='sigmoid', padding='same')(outputs)\n",
    "# 100, 100, 1\n",
    "\n",
    "model = Model(inputs=[inputs], outputs=[outputs])\n",
    "\n",
    "print(model.summary())"
   ]
  },
  {
   "cell_type": "code",
   "execution_count": null,
   "metadata": {},
   "outputs": [],
   "source": [
    "print('compiling model...')\n",
    "model.compile(loss='binary_crossentropy', optimizer='nadam', metrics=['acc'])"
   ]
  },
  {
   "cell_type": "code",
   "execution_count": null,
   "metadata": {},
   "outputs": [],
   "source": [
    "print('fitting model...')\n",
    "train_history = model.fit(train_img_dataset, \n",
    "                          train_mask_dataset, \n",
    "                          batch_size=128, \n",
    "                          epochs=5,\n",
    "                          shuffle=True)"
   ]
  },
  {
   "cell_type": "code",
   "execution_count": null,
   "metadata": {},
   "outputs": [],
   "source": [
    "print('creating visualisation dataset...')\n",
    "\n",
    "num_to_vis = 5\n",
    "vis_img_dataset = train_img_dataset[0:num_to_vis]\n",
    "vis_mask_dataset = train_mask_dataset[0:num_to_vis]\n",
    "\n",
    "print('predicting masks...')\n",
    "vis_mask_preds = model.predict(vis_img_dataset)\n",
    "\n",
    "print('displaying predictions...')\n",
    "for i in tqdm_notebook(range(num_to_vis)):\n",
    "    img = vis_img_dataset[i].reshape(100, 100)\n",
    "    mask = vis_mask_dataset[i].reshape(100, 100)\n",
    "    pred = vis_mask_preds[i].reshape(100, 100)\n",
    "    \n",
    "    fig, axs = plt.subplots(1, 3)\n",
    "    axs[0].imshow(img)\n",
    "    axs[0].set_title('Image')\n",
    "    axs[1].imshow(mask)\n",
    "    axs[1].set_title('Mask')\n",
    "    axs[2].imshow(pred)\n",
    "    axs[2].set_title('Predicted Mask')\n",
    "\n",
    "print('done!')"
   ]
  }
 ],
 "metadata": {
  "kernelspec": {
   "display_name": "Python 3",
   "language": "python",
   "name": "python3"
  },
  "language_info": {
   "codemirror_mode": {
    "name": "ipython",
    "version": 3
   },
   "file_extension": ".py",
   "mimetype": "text/x-python",
   "name": "python",
   "nbconvert_exporter": "python",
   "pygments_lexer": "ipython3",
   "version": "3.6.5"
  }
 },
 "nbformat": 4,
 "nbformat_minor": 2
}
